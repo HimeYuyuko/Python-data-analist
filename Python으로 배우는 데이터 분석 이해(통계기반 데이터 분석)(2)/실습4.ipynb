{
 "cells": [
  {
   "cell_type": "code",
   "execution_count": 9,
   "id": "3175084d",
   "metadata": {},
   "outputs": [],
   "source": [
    "import os\n",
    "import warnings\n",
    "warnings.simplefilter(action='ignore',category=FutureWarning)\n",
    "\n",
    "import pandas as pd\n",
    "import numpy as np\n",
    "from scipy import stats\n",
    "import scipy.stats as st\n",
    "from scipy.stats import shapiro\n",
    "import math\n",
    "\n",
    "import matplotlib.pyplot as plt\n",
    "import seaborn as sns\n",
    "%matplotlib inline\n",
    "\n",
    "if os.name =='nt':\n",
    "    font_family=\"Malgun Gothic\"\n",
    "else:\n",
    "    font_family=\"AppleGothic\"\n",
    "sns.set(font=font_family,rc={\"axes.unicode_minus\":False})"
   ]
  },
  {
   "cell_type": "code",
   "execution_count": 3,
   "id": "72f3cbd8",
   "metadata": {},
   "outputs": [
    {
     "name": "stdout",
     "output_type": "stream",
     "text": [
      "a평균: 79.0\n",
      "b평균: 65.375\n",
      "c평균: 67.125\n",
      "d평균: 69.5\n"
     ]
    }
   ],
   "source": [
    "a=[66,74,82,75,73,97,87,78]\n",
    "b=[72,51,59,62,74,64,78,63]\n",
    "c=[61,60,57,60,81,77,70,71]\n",
    "d=[63,61,76,84,58,65,69,80]\n",
    "print('a평균:',np.mean(a))\n",
    "print('b평균:',np.mean(b))\n",
    "print('c평균:',np.mean(c))\n",
    "print('d평균:',np.mean(d))"
   ]
  },
  {
   "cell_type": "code",
   "execution_count": 4,
   "id": "58a82a14",
   "metadata": {},
   "outputs": [
    {
     "data": {
      "image/png": "[encoded data removed]",
      "text/plain": [
       "<Figure size 432x288 with 1 Axes>"
      ]
     },
     "metadata": {},
     "output_type": "display_data"
    }
   ],
   "source": [
    "plot_data = [a,b,c,d]\n",
    "plt.boxplot(plot_data)\n",
    "plt.xticks([1,2,3,4],['a','b','c','d'])\n",
    "plt.show()"
   ]
  },
  {
   "cell_type": "code",
   "execution_count": 6,
   "id": "a9834316",
   "metadata": {},
   "outputs": [
    {
     "data": {
      "text/html": [
       "<div>\n",
       "<style scoped>\n",
       "    .dataframe tbody tr th:only-of-type {\n",
       "        vertical-align: middle;\n",
       "    }\n",
       "\n",
       "    .dataframe tbody tr th {\n",
       "        vertical-align: top;\n",
       "    }\n",
       "\n",
       "    .dataframe thead th {\n",
       "        text-align: right;\n",
       "    }\n",
       "</style>\n",
       "<table border=\"1\" class=\"dataframe\">\n",
       "  <thead>\n",
       "    <tr style=\"text-align: right;\">\n",
       "      <th></th>\n",
       "      <th>점수</th>\n",
       "      <th>교육기관</th>\n",
       "    </tr>\n",
       "  </thead>\n",
       "  <tbody>\n",
       "    <tr>\n",
       "      <th>0</th>\n",
       "      <td>66</td>\n",
       "      <td>a</td>\n",
       "    </tr>\n",
       "    <tr>\n",
       "      <th>1</th>\n",
       "      <td>74</td>\n",
       "      <td>a</td>\n",
       "    </tr>\n",
       "    <tr>\n",
       "      <th>2</th>\n",
       "      <td>82</td>\n",
       "      <td>a</td>\n",
       "    </tr>\n",
       "    <tr>\n",
       "      <th>3</th>\n",
       "      <td>75</td>\n",
       "      <td>a</td>\n",
       "    </tr>\n",
       "    <tr>\n",
       "      <th>4</th>\n",
       "      <td>73</td>\n",
       "      <td>a</td>\n",
       "    </tr>\n",
       "  </tbody>\n",
       "</table>\n",
       "</div>"
      ],
      "text/plain": [
       "   점수 교육기관\n",
       "0  66    a\n",
       "1  74    a\n",
       "2  82    a\n",
       "3  75    a\n",
       "4  73    a"
      ]
     },
     "execution_count": 6,
     "metadata": {},
     "output_type": "execute_result"
    }
   ],
   "source": [
    "check=['a','b','c','d']\n",
    "check = [check[j] for j in range(4) for i in range(8)]\n",
    "data = pd.DataFrame({'점수':a+b+c+d,'교육기관':check})\n",
    "data.head()"
   ]
  },
  {
   "cell_type": "code",
   "execution_count": 10,
   "id": "9ec7c634",
   "metadata": {},
   "outputs": [
    {
     "name": "stdout",
     "output_type": "stream",
     "text": [
      "정규성을 검정\n"
     ]
    }
   ],
   "source": [
    "print('정규성을 검정')\n",
    "normal_a=shapiro(a)\n",
    "normal_b=shapiro(b)\n",
    "normal_c=shapiro(c)\n",
    "normal_d=shapiro(d)"
   ]
  },
  {
   "cell_type": "code",
   "execution_count": 11,
   "id": "38227815",
   "metadata": {},
   "outputs": [
    {
     "name": "stdout",
     "output_type": "stream",
     "text": [
      "ShapiroResult(statistic=0.9516036510467529, pvalue=0.7273865938186646)\n",
      "ShapiroResult(statistic=0.9632648825645447, pvalue=0.8405646681785583)\n",
      "ShapiroResult(statistic=0.8988886475563049, pvalue=0.2823662757873535)\n",
      "ShapiroResult(statistic=0.93294757604599, pvalue=0.5432827472686768)\n",
      "KstestResult(statistic=0.625, pvalue=0.08702408702408701)\n",
      "KstestResult(statistic=0.625, pvalue=0.08702408702408701)\n",
      "KstestResult(statistic=0.5, pvalue=0.2826728826728826)\n",
      "KstestResult(statistic=0.25, pvalue=0.98010878010878)\n",
      "KstestResult(statistic=0.25, pvalue=0.98010878010878)\n",
      "KstestResult(statistic=0.25, pvalue=0.98010878010878)\n",
      "등분산성 검정\n",
      "LeveneResult(statistic=0.07560756075607561, pvalue=0.972627101462453)\n",
      "BartlettResult(statistic=0.07373983712569482, pvalue=0.9947906337756077)\n"
     ]
    }
   ],
   "source": [
    "print(normal_a)\n",
    "print(normal_b)\n",
    "print(normal_c)\n",
    "print(normal_d)\n",
    "\n",
    "print(stats.ks_2samp(a,b),stats.ks_2samp(a,c),stats.ks_2samp(a,d),stats.ks_2samp(b,c),stats.ks_2samp(b,d),stats.ks_2samp(c,d), sep=\"\\n\")\n",
    "\n",
    "print('등분산성 검정')\n",
    "from scipy.stats import levene\n",
    "print(levene(a,b,c,d))\n",
    "from scipy.stats import bartlett\n",
    "print(bartlett(a,b,c,d))"
   ]
  },
  {
   "cell_type": "code",
   "execution_count": 12,
   "id": "993af952",
   "metadata": {},
   "outputs": [
    {
     "name": "stdout",
     "output_type": "stream",
     "text": [
      "F=3.5,p=0.029\n",
      "귀무가설 기각, 4개의 교육훈련 기법간이 차이가 있다\n"
     ]
    }
   ],
   "source": [
    "f_statisitc,pval = stats.f_oneway(a,b,c,d)\n",
    "\n",
    "print('F={0:.1f},p={1:.3f}'.format(f_statisitc,pval))\n",
    "\n",
    "if pval <0.05:\n",
    "    print(\"귀무가설 기각, 4개의 교육훈련 기법간이 차이가 있다\")\n",
    "else:\n",
    "    print(\"귀무가설 기각, 4개의 교육훈련 기법간이 차이가 없다\")"
   ]
  },
  {
   "cell_type": "code",
   "execution_count": 15,
   "id": "663c6e13",
   "metadata": {},
   "outputs": [
    {
     "data": {
      "text/html": [
       "<div>\n",
       "<style scoped>\n",
       "    .dataframe tbody tr th:only-of-type {\n",
       "        vertical-align: middle;\n",
       "    }\n",
       "\n",
       "    .dataframe tbody tr th {\n",
       "        vertical-align: top;\n",
       "    }\n",
       "\n",
       "    .dataframe thead th {\n",
       "        text-align: right;\n",
       "    }\n",
       "</style>\n",
       "<table border=\"1\" class=\"dataframe\">\n",
       "  <thead>\n",
       "    <tr style=\"text-align: right;\">\n",
       "      <th></th>\n",
       "      <th>df</th>\n",
       "      <th>sum_sq</th>\n",
       "      <th>mean_sq</th>\n",
       "      <th>F</th>\n",
       "      <th>PR(&gt;F)</th>\n",
       "    </tr>\n",
       "  </thead>\n",
       "  <tbody>\n",
       "    <tr>\n",
       "      <th>C(교육기관)</th>\n",
       "      <td>3.0</td>\n",
       "      <td>885.25</td>\n",
       "      <td>295.083333</td>\n",
       "      <td>3.482176</td>\n",
       "      <td>0.028897</td>\n",
       "    </tr>\n",
       "    <tr>\n",
       "      <th>Residual</th>\n",
       "      <td>28.0</td>\n",
       "      <td>2372.75</td>\n",
       "      <td>84.741071</td>\n",
       "      <td>NaN</td>\n",
       "      <td>NaN</td>\n",
       "    </tr>\n",
       "  </tbody>\n",
       "</table>\n",
       "</div>"
      ],
      "text/plain": [
       "            df   sum_sq     mean_sq         F    PR(>F)\n",
       "C(교육기관)    3.0   885.25  295.083333  3.482176  0.028897\n",
       "Residual  28.0  2372.75   84.741071       NaN       NaN"
      ]
     },
     "execution_count": 15,
     "metadata": {},
     "output_type": "execute_result"
    }
   ],
   "source": [
    "from statsmodels.formula.api import ols\n",
    "from statsmodels.stats.anova import anova_lm\n",
    "\n",
    "model_1A= ols('점수 ~ C(교육기관)',data).fit()\n",
    "anova_lm_result = anova_lm(model_1A)\n",
    "anova_lm_result"
   ]
  },
  {
   "cell_type": "code",
   "execution_count": 16,
   "id": "91fccdb4",
   "metadata": {},
   "outputs": [
    {
     "name": "stdout",
     "output_type": "stream",
     "text": [
      "귀무가설 기각, 4개의 교육훈련 기법간이 차이가 있다.\n"
     ]
    }
   ],
   "source": [
    "pval = anova_lm_result['PR(>F)'][0]\n",
    "if pval <0.05:\n",
    "    print(\"귀무가설 기각, 4개의 교육훈련 기법간이 차이가 있다.\")\n",
    "else:\n",
    "    print(\"귀무가설 채택, 4개의 교육훈련 기법간이 차이가 없다\")"
   ]
  },
  {
   "cell_type": "code",
   "execution_count": 18,
   "id": "2f14a0e2",
   "metadata": {},
   "outputs": [
    {
     "data": {
      "text/html": [
       "<table class=\"simpletable\">\n",
       "<caption>Multiple Comparison of Means - Tukey HSD, FWER=0.05</caption>\n",
       "<tr>\n",
       "  <th>group1</th> <th>group2</th> <th>meandiff</th>  <th>p-adj</th>   <th>lower</th>   <th>upper</th>  <th>reject</th>\n",
       "</tr>\n",
       "<tr>\n",
       "     <td>a</td>      <td>b</td>    <td>-13.625</td> <td>0.0298</td> <td>-26.1919</td> <td>-1.0581</td>  <td>True</td> \n",
       "</tr>\n",
       "<tr>\n",
       "     <td>a</td>      <td>c</td>    <td>-11.875</td> <td>0.0692</td> <td>-24.4419</td> <td>0.6919</td>   <td>False</td>\n",
       "</tr>\n",
       "<tr>\n",
       "     <td>a</td>      <td>d</td>     <td>-9.5</td>   <td>0.1896</td> <td>-22.0669</td> <td>3.0669</td>   <td>False</td>\n",
       "</tr>\n",
       "<tr>\n",
       "     <td>b</td>      <td>c</td>     <td>1.75</td>   <td>0.9809</td> <td>-10.8169</td> <td>14.3169</td>  <td>False</td>\n",
       "</tr>\n",
       "<tr>\n",
       "     <td>b</td>      <td>d</td>     <td>4.125</td>  <td>0.8068</td>  <td>-8.4419</td> <td>16.6919</td>  <td>False</td>\n",
       "</tr>\n",
       "<tr>\n",
       "     <td>c</td>      <td>d</td>     <td>2.375</td>  <td>0.9546</td> <td>-10.1919</td> <td>14.9419</td>  <td>False</td>\n",
       "</tr>\n",
       "</table>"
      ],
      "text/plain": [
       "<class 'statsmodels.iolib.table.SimpleTable'>"
      ]
     },
     "execution_count": 18,
     "metadata": {},
     "output_type": "execute_result"
    }
   ],
   "source": [
    "from statsmodels.stats.multicomp import pairwise_tukeyhsd\n",
    "\n",
    "HSD = pairwise_tukeyhsd(data['점수'],data['교육기관'],alpha=0.05)\n",
    "HSD.summary()"
   ]
  },
  {
   "cell_type": "code",
   "execution_count": 21,
   "id": "933eceae",
   "metadata": {},
   "outputs": [],
   "source": [
    "dat = pd.DataFrame({'판유리':['유리1','유리1','유리1','유리2','유리2','유리2','유리3','유리3','유리3','유리1',\n",
    "                           '유리1','유리1','유리2','유리2','유리2', '유리3','유리3','유리3','유리1','유리1',\n",
    "                           '유리1','유리2','유리2','유리2','유리3','유리3','유리3'],\n",
    "                   '온도':[100,100,100,100,100,100,100,100,100,100,\n",
    "                         125,125,125,125,125,125,125,125,125,125,\n",
    "                         150,150,150,150,150,150,150],\n",
    "                  '강도':[580,568,570,550,530,579,546,575,599,1090,\n",
    "                        1087,1085,1070,1035,1000,1045,1053,1066,1392,1380,\n",
    "                        1386,1328,1312,1299,867,904,889]})"
   ]
  },
  {
   "cell_type": "code",
   "execution_count": 22,
   "id": "4d9913d7",
   "metadata": {},
   "outputs": [
    {
     "data": {
      "text/html": [
       "<div>\n",
       "<style scoped>\n",
       "    .dataframe tbody tr th:only-of-type {\n",
       "        vertical-align: middle;\n",
       "    }\n",
       "\n",
       "    .dataframe tbody tr th {\n",
       "        vertical-align: top;\n",
       "    }\n",
       "\n",
       "    .dataframe thead th {\n",
       "        text-align: right;\n",
       "    }\n",
       "</style>\n",
       "<table border=\"1\" class=\"dataframe\">\n",
       "  <thead>\n",
       "    <tr style=\"text-align: right;\">\n",
       "      <th></th>\n",
       "      <th>판유리</th>\n",
       "      <th>온도</th>\n",
       "      <th>강도</th>\n",
       "    </tr>\n",
       "  </thead>\n",
       "  <tbody>\n",
       "    <tr>\n",
       "      <th>0</th>\n",
       "      <td>유리1</td>\n",
       "      <td>100</td>\n",
       "      <td>580</td>\n",
       "    </tr>\n",
       "    <tr>\n",
       "      <th>1</th>\n",
       "      <td>유리1</td>\n",
       "      <td>100</td>\n",
       "      <td>568</td>\n",
       "    </tr>\n",
       "    <tr>\n",
       "      <th>2</th>\n",
       "      <td>유리1</td>\n",
       "      <td>100</td>\n",
       "      <td>570</td>\n",
       "    </tr>\n",
       "    <tr>\n",
       "      <th>3</th>\n",
       "      <td>유리2</td>\n",
       "      <td>100</td>\n",
       "      <td>550</td>\n",
       "    </tr>\n",
       "    <tr>\n",
       "      <th>4</th>\n",
       "      <td>유리2</td>\n",
       "      <td>100</td>\n",
       "      <td>530</td>\n",
       "    </tr>\n",
       "  </tbody>\n",
       "</table>\n",
       "</div>"
      ],
      "text/plain": [
       "   판유리   온도   강도\n",
       "0  유리1  100  580\n",
       "1  유리1  100  568\n",
       "2  유리1  100  570\n",
       "3  유리2  100  550\n",
       "4  유리2  100  530"
      ]
     },
     "execution_count": 22,
     "metadata": {},
     "output_type": "execute_result"
    }
   ],
   "source": [
    "dat.head()"
   ]
  },
  {
   "cell_type": "code",
   "execution_count": 24,
   "id": "e1b1f2de",
   "metadata": {},
   "outputs": [
    {
     "data": {
      "text/html": [
       "<div>\n",
       "<style scoped>\n",
       "    .dataframe tbody tr th:only-of-type {\n",
       "        vertical-align: middle;\n",
       "    }\n",
       "\n",
       "    .dataframe tbody tr th {\n",
       "        vertical-align: top;\n",
       "    }\n",
       "\n",
       "    .dataframe thead th {\n",
       "        text-align: right;\n",
       "    }\n",
       "</style>\n",
       "<table border=\"1\" class=\"dataframe\">\n",
       "  <thead>\n",
       "    <tr style=\"text-align: right;\">\n",
       "      <th></th>\n",
       "      <th></th>\n",
       "      <th>강도</th>\n",
       "    </tr>\n",
       "    <tr>\n",
       "      <th>판유리</th>\n",
       "      <th>온도</th>\n",
       "      <th></th>\n",
       "    </tr>\n",
       "  </thead>\n",
       "  <tbody>\n",
       "    <tr>\n",
       "      <th rowspan=\"3\" valign=\"top\">유리1</th>\n",
       "      <th>100</th>\n",
       "      <td>4</td>\n",
       "    </tr>\n",
       "    <tr>\n",
       "      <th>125</th>\n",
       "      <td>4</td>\n",
       "    </tr>\n",
       "    <tr>\n",
       "      <th>150</th>\n",
       "      <td>1</td>\n",
       "    </tr>\n",
       "    <tr>\n",
       "      <th rowspan=\"3\" valign=\"top\">유리2</th>\n",
       "      <th>100</th>\n",
       "      <td>3</td>\n",
       "    </tr>\n",
       "    <tr>\n",
       "      <th>125</th>\n",
       "      <td>3</td>\n",
       "    </tr>\n",
       "    <tr>\n",
       "      <th>150</th>\n",
       "      <td>3</td>\n",
       "    </tr>\n",
       "    <tr>\n",
       "      <th rowspan=\"3\" valign=\"top\">유리3</th>\n",
       "      <th>100</th>\n",
       "      <td>3</td>\n",
       "    </tr>\n",
       "    <tr>\n",
       "      <th>125</th>\n",
       "      <td>3</td>\n",
       "    </tr>\n",
       "    <tr>\n",
       "      <th>150</th>\n",
       "      <td>3</td>\n",
       "    </tr>\n",
       "  </tbody>\n",
       "</table>\n",
       "</div>"
      ],
      "text/plain": [
       "         강도\n",
       "판유리 온도     \n",
       "유리1 100   4\n",
       "    125   4\n",
       "    150   1\n",
       "유리2 100   3\n",
       "    125   3\n",
       "    150   3\n",
       "유리3 100   3\n",
       "    125   3\n",
       "    150   3"
      ]
     },
     "execution_count": 24,
     "metadata": {},
     "output_type": "execute_result"
    }
   ],
   "source": [
    "dat.groupby(['판유리','온도']).agg(len)"
   ]
  },
  {
   "cell_type": "code",
   "execution_count": 26,
   "id": "47387989",
   "metadata": {},
   "outputs": [],
   "source": [
    "from statsmodels.formula.api import ols\n",
    "from statsmodels.stats.anova import anova_lm\n",
    "\n",
    "model = ols('강도 ~C(판유리)*C(온도)',dat).fit()\n",
    "anova_result =pd.DataFrame(anova_lm(model))"
   ]
  },
  {
   "cell_type": "code",
   "execution_count": 27,
   "id": "8d01d7e1",
   "metadata": {},
   "outputs": [
    {
     "data": {
      "text/html": [
       "<div>\n",
       "<style scoped>\n",
       "    .dataframe tbody tr th:only-of-type {\n",
       "        vertical-align: middle;\n",
       "    }\n",
       "\n",
       "    .dataframe tbody tr th {\n",
       "        vertical-align: top;\n",
       "    }\n",
       "\n",
       "    .dataframe thead th {\n",
       "        text-align: right;\n",
       "    }\n",
       "</style>\n",
       "<table border=\"1\" class=\"dataframe\">\n",
       "  <thead>\n",
       "    <tr style=\"text-align: right;\">\n",
       "      <th></th>\n",
       "      <th>df</th>\n",
       "      <th>sum_sq</th>\n",
       "      <th>mean_sq</th>\n",
       "      <th>F</th>\n",
       "      <th>PR(&gt;F)</th>\n",
       "    </tr>\n",
       "  </thead>\n",
       "  <tbody>\n",
       "    <tr>\n",
       "      <th>C(판유리)</th>\n",
       "      <td>2.0</td>\n",
       "      <td>1.508645e+05</td>\n",
       "      <td>75432.259259</td>\n",
       "      <td>4.567131</td>\n",
       "      <td>2.487656e-02</td>\n",
       "    </tr>\n",
       "    <tr>\n",
       "      <th>C(온도)</th>\n",
       "      <td>2.0</td>\n",
       "      <td>1.756994e+06</td>\n",
       "      <td>878496.945455</td>\n",
       "      <td>53.189587</td>\n",
       "      <td>2.784348e-08</td>\n",
       "    </tr>\n",
       "    <tr>\n",
       "      <th>C(판유리):C(온도)</th>\n",
       "      <td>4.0</td>\n",
       "      <td>2.131777e+05</td>\n",
       "      <td>53294.416162</td>\n",
       "      <td>3.226770</td>\n",
       "      <td>3.667744e-02</td>\n",
       "    </tr>\n",
       "    <tr>\n",
       "      <th>Residual</th>\n",
       "      <td>18.0</td>\n",
       "      <td>2.972940e+05</td>\n",
       "      <td>16516.333333</td>\n",
       "      <td>NaN</td>\n",
       "      <td>NaN</td>\n",
       "    </tr>\n",
       "  </tbody>\n",
       "</table>\n",
       "</div>"
      ],
      "text/plain": [
       "                df        sum_sq        mean_sq          F        PR(>F)\n",
       "C(판유리)         2.0  1.508645e+05   75432.259259   4.567131  2.487656e-02\n",
       "C(온도)          2.0  1.756994e+06  878496.945455  53.189587  2.784348e-08\n",
       "C(판유리):C(온도)   4.0  2.131777e+05   53294.416162   3.226770  3.667744e-02\n",
       "Residual      18.0  2.972940e+05   16516.333333        NaN           NaN"
      ]
     },
     "execution_count": 27,
     "metadata": {},
     "output_type": "execute_result"
    }
   ],
   "source": [
    "anova_result"
   ]
  },
  {
   "cell_type": "code",
   "execution_count": 28,
   "id": "2e0446b7",
   "metadata": {},
   "outputs": [
    {
     "name": "stdout",
     "output_type": "stream",
     "text": [
      "    Multiple Comparison of Means - Tukey HSD, FWER=0.05     \n",
      "============================================================\n",
      " group1  group2  meandiff p-adj    lower      upper   reject\n",
      "------------------------------------------------------------\n",
      "유리1/100 유리1/125     534.0 0.0004   215.5884  852.4116   True\n",
      "유리1/100 유리1/150     684.0 0.0039   180.5471 1187.4529   True\n",
      "유리1/100 유리2/100    -149.0 0.8334  -492.9238  194.9238  False\n",
      "유리1/100 유리2/125     333.0  0.062   -10.9238  676.9238  False\n",
      "유리1/100 유리2/150     611.0 0.0002   267.0762  954.9238   True\n",
      "유리1/100 유리3/100 -128.6667 0.9153  -472.5905  215.2571  False\n",
      "유리1/100 유리3/125  352.6667  0.042     8.7429  696.5905   True\n",
      "유리1/100 유리3/150  184.6667 0.6333  -159.2571  528.5905  False\n",
      "유리1/125 유리1/150     150.0 0.9755  -353.4529  653.4529  False\n",
      "유리1/125 유리2/100    -683.0    0.0 -1026.9238 -339.0762   True\n",
      "유리1/125 유리2/125    -201.0 0.5331  -544.9238  142.9238  False\n",
      "유리1/125 유리2/150      77.0  0.996  -266.9238  420.9238  False\n",
      "유리1/125 유리3/100 -662.6667 0.0001 -1006.5905 -318.7429   True\n",
      "유리1/125 유리3/125 -181.3333 0.6537  -525.2571  162.5905  False\n",
      "유리1/125 유리3/150 -349.3333 0.0449  -693.2571   -5.4095   True\n",
      "유리1/150 유리2/100    -833.0 0.0007 -1352.9639 -313.0361   True\n",
      "유리1/150 유리2/125    -351.0 0.3571  -870.9639  168.9639  False\n",
      "유리1/150 유리2/150     -73.0 0.9999  -592.9639  446.9639  False\n",
      "유리1/150 유리3/100 -812.6667 0.0009 -1332.6306 -292.7028   True\n",
      "유리1/150 유리3/125 -331.3333 0.4267  -851.2972  188.6306  False\n",
      "유리1/150 유리3/150 -499.3333 0.0654 -1019.2972   20.6306  False\n",
      "유리2/100 유리2/125     482.0 0.0054     114.33    849.67   True\n",
      "유리2/100 유리2/150     760.0    0.0     392.33   1127.67   True\n",
      "유리2/100 유리3/100   20.3333    1.0  -347.3367  388.0033  False\n",
      "유리2/100 유리3/125  501.6667 0.0037   133.9967  869.3367   True\n",
      "유리2/100 유리3/150  333.6667 0.0928   -34.0033  701.3367  False\n",
      "유리2/125 유리2/150     278.0 0.2332     -89.67    645.67  False\n",
      "유리2/125 유리3/100 -461.6667 0.0081  -829.3367  -93.9967   True\n",
      "유리2/125 유리3/125   19.6667    1.0  -348.0033  387.3367  False\n",
      "유리2/125 유리3/150 -148.3333 0.8785  -516.0033  219.3367  False\n",
      "유리2/150 유리3/100 -739.6667    0.0 -1107.3367 -371.9967   True\n",
      "유리2/150 유리3/125 -258.3333 0.3109  -626.0033  109.3367  False\n",
      "유리2/150 유리3/150 -426.3333 0.0163  -794.0033  -58.6633   True\n",
      "유리3/100 유리3/125  481.3333 0.0055   113.6633  849.0033   True\n",
      "유리3/100 유리3/150  313.3333 0.1319   -54.3367  681.0033  False\n",
      "유리3/125 유리3/150    -168.0 0.7927    -535.67    199.67  False\n",
      "------------------------------------------------------------\n"
     ]
    }
   ],
   "source": [
    "dat['온도']=dat['온도'].astype('str')\n",
    "dat['combi']=dat.판유리+\"/\"+dat.온도\n",
    "print(pairwise_tukeyhsd(dat['강도'],dat['combi']))"
   ]
  },
  {
   "cell_type": "code",
   "execution_count": null,
   "id": "050eb60f",
   "metadata": {},
   "outputs": [],
   "source": []
  }
 ],
 "metadata": {
  "kernelspec": {
   "display_name": "Python 3 (ipykernel)",
   "language": "python",
   "name": "python3"
  },
  "language_info": {
   "codemirror_mode": {
    "name": "ipython",
    "version": 3
   },
   "file_extension": ".py",
   "mimetype": "text/x-python",
   "name": "python",
   "nbconvert_exporter": "python",
   "pygments_lexer": "ipython3",
   "version": "3.9.12"
  }
 },
 "nbformat": 4,
 "nbformat_minor": 5
}
